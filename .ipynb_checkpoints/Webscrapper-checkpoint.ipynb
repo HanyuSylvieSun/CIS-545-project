{
 "cells": [
  {
   "cell_type": "markdown",
   "metadata": {},
   "source": [
    "This is a webscrapper"
   ]
  },
  {
   "cell_type": "code",
   "execution_count": 4,
   "metadata": {},
   "outputs": [],
   "source": [
    "from bs4 import BeautifulSoup\n",
    "import urllib.request as url\n",
    "import pandas as pd"
   ]
  },
  {
   "cell_type": "markdown",
   "metadata": {},
   "source": [
    "<p> This method takes in a URL address and returns two lists (categories, urls). </p>\n",
    "<p> Only covers <b> Women's Clothing </b> and <b> Men's Clothing </b> </p>"
   ]
  },
  {
   "cell_type": "code",
   "execution_count": 5,
   "metadata": {},
   "outputs": [],
   "source": [
    "def get_category_link(url_string):\n",
    "    categories = []\n",
    "    urls = []\n",
    "    url_page = url_string\n",
    "    html_page = url.urlopen(str(url_page))\n",
    "    soup = BeautifulSoup(html_page)\n",
    "    for link in soup.findAll('div', attrs={'class': 'a-row a-expander-container a-expander-extend-container'}):\n",
    "        for link_in_link in link.findAll('a'):\n",
    "            if (link_in_link.get('href') and (not link_in_link.text == \"Clothing\")):\n",
    "                categories.append(link_in_link.text)\n",
    "                urls.append(link_in_link.get('href'))\n",
    "    return (categories, urls);"
   ]
  },
  {
   "cell_type": "code",
   "execution_count": 20,
   "metadata": {},
   "outputs": [],
   "source": [
    "url_women_clothing = \"https://www.amazon.com/Clothing/b/ref=sv_sl_fl_1040660?ie=UTF8&node=1040660\"\n",
    "url_men_clothing = \"https://www.amazon.com/Men-Clothing/b?ie=UTF8&node=1040658\"\n",
    "\n",
    "(categories_women, urls_women) = get_category_link(url_women_clothing)\n",
    "(categories_men, urls_men) = get_category_link(url_men_clothing)"
   ]
  },
  {
   "cell_type": "code",
   "execution_count": 25,
   "metadata": {},
   "outputs": [
    {
     "name": "stdout",
     "output_type": "stream",
     "text": [
      "['Dresses', 'Tops, Tees & Blouses', 'Sweaters', 'Fashion Hoodies & Sweatshirts', 'Jeans', 'Pants', 'Skirts', 'Shorts', 'Leggings', 'Active', 'Swimsuits & Cover Ups', 'Lingerie, Sleep & Lounge', 'Jumpsuits, Rompers & Overalls', 'Coats, Jackets & Vests', 'Suiting & Blazers', 'Socks & Hosiery', 'Shoes', 'Jewelry', 'Watches', 'Handbags & Wallets', 'Accessories', 'Dresses', 'Tops, Tees & Blouses', 'Sweaters', 'Fashion Hoodies & Sweatshirts', 'Jeans', 'Pants', 'Skirts', 'Shorts', 'Leggings', 'Active', 'Swimsuits & Cover Ups', 'Lingerie, Sleep & Lounge', 'Jumpsuits, Rompers & Overalls', 'Coats, Jackets & Vests', 'Suiting & Blazers', 'Socks & Hosiery']\n",
      "['https://www.amazon.com/Dresses/b?ie=UTF8&node=1045024', 'https://www.amazon.com/Womens-Tops-Tees/b?ie=UTF8&node=2368343011', 'https://www.amazon.com/Womens-Sweaters/b?ie=UTF8&node=1044456', 'https://www.amazon.com/Womens-Hoodies-and-Sweatshirts/b?ie=UTF8&node=1258603011', 'https://www.amazon.com/Womens-Jeans/b?ie=UTF8&node=1048188', 'https://www.amazon.com/Womens-Pants/b?ie=UTF8&node=1048184', 'https://www.amazon.com/Skirts/b?ie=UTF8&node=1045022', 'https://www.amazon.com/Womens-Shorts/b?ie=UTF8&node=1048186', 'https://www.amazon.com/Leggings/b?ie=UTF8&node=1258967011', 'https://www.amazon.com/Womens-Activewear/b?ie=UTF8&node=3456051', 'https://www.amazon.com/Womens-Swimsuits-and-Cover-Ups/b?ie=UTF8&node=1046622', 'https://www.amazon.com/Lingerie-Sleepwear-and-Loungewear/b?ie=UTF8&node=9522931011', 'https://www.amazon.com/Womens-Jumpsuits-Rompers-Overalls/b?ie=UTF8&node=9522930011', 'https://www.amazon.com/Womens-Coats/b?ie=UTF8&node=1044646', 'https://www.amazon.com/Womens-Suiting-Blazers/b?ie=UTF8&node=9522932011', 'https://www.amazon.com/Womens-Socks-and-Hosiery/b?ie=UTF8&node=1044886', 'https://www.amazon.com/womens-shoes/b?ie=UTF8&node=679337011', 'https://www.amazon.com/Jewelry/b?ie=UTF8&node=7192394011', 'https://www.amazon.com/Womens-Watches/b?ie=UTF8&node=6358543011', 'https://www.amazon.com/Handbags/b?ie=UTF8&node=15743631', 'https://www.amazon.com/Womens-Accessories/b?ie=UTF8&node=2474936011', 'https://www.amazon.com/Dresses/b?ie=UTF8&node=1045024', 'https://www.amazon.com/Womens-Tops-Tees/b?ie=UTF8&node=2368343011', 'https://www.amazon.com/Womens-Sweaters/b?ie=UTF8&node=1044456', 'https://www.amazon.com/Womens-Hoodies-and-Sweatshirts/b?ie=UTF8&node=1258603011', 'https://www.amazon.com/Womens-Jeans/b?ie=UTF8&node=1048188', 'https://www.amazon.com/Womens-Pants/b?ie=UTF8&node=1048184', 'https://www.amazon.com/Skirts/b?ie=UTF8&node=1045022', 'https://www.amazon.com/Womens-Shorts/b?ie=UTF8&node=1048186', 'https://www.amazon.com/Leggings/b?ie=UTF8&node=1258967011', 'https://www.amazon.com/Womens-Activewear/b?ie=UTF8&node=3456051', 'https://www.amazon.com/Womens-Swimsuits-and-Cover-Ups/b?ie=UTF8&node=1046622', 'https://www.amazon.com/Lingerie-Sleepwear-and-Loungewear/b?ie=UTF8&node=9522931011', 'https://www.amazon.com/Womens-Jumpsuits-Rompers-Overalls/b?ie=UTF8&node=9522930011', 'https://www.amazon.com/Womens-Coats/b?ie=UTF8&node=1044646', 'https://www.amazon.com/Womens-Suiting-Blazers/b?ie=UTF8&node=9522932011', 'https://www.amazon.com/Womens-Socks-and-Hosiery/b?ie=UTF8&node=1044886']\n"
     ]
    }
   ],
   "source": [
    "print(categories_women)\n",
    "print(urls_women)"
   ]
  },
  {
   "cell_type": "code",
   "execution_count": 22,
   "metadata": {},
   "outputs": [],
   "source": [
    "#print(categories_men)\n",
    "#print(urls_men)\n",
    "#f = open(\"category_to_link_women.csv\", \"w\")\n",
    "#for i in range(len(categories_women)):\n",
    "#    f.write(categories_women[i] + \" \" + urls_women[i])\n",
    "#f.close()\n",
    "#\n",
    "import csv\n",
    "\n",
    "with open('category_to_link_women.csv', mode='w') as csv_file:\n",
    "    fieldnames = ['category', 'link']\n",
    "    writer = csv.DictWriter(csv_file, fieldnames=fieldnames)\n",
    "    writer.writeheader()\n",
    "    for i in range(len(categories_women)):\n",
    "        writer.writerow({'category': categories_women[i] , 'link': urls_women[i]})"
   ]
  },
  {
   "cell_type": "code",
   "execution_count": 26,
   "metadata": {},
   "outputs": [],
   "source": [
    "f = open(\"category_to_link_women.csv\", \"w\")\n",
    "f.write(\"category, link\")\n",
    "f.write('\\n')\n",
    "for i in range(len(categories_women)):\n",
    "    f.write(categories_women[i] + \",\" + urls_women[i])\n",
    "    f.write('\\n')\n",
    "f.close()"
   ]
  },
  {
   "cell_type": "code",
   "execution_count": 24,
   "metadata": {},
   "outputs": [],
   "source": [
    "with open('category_to_link_men.csv', mode='w') as new_file:\n",
    "    fieldnames = ['category', 'link']\n",
    "    writer = csv.DictWriter(new_file, fieldnames=fieldnames)\n",
    "    writer.writeheader()\n",
    "    for i in range(len(categories_men)):\n",
    "        writer.writerow({'category': categories_men[i] , 'link': urls_men[i]})"
   ]
  },
  {
   "cell_type": "markdown",
   "metadata": {},
   "source": [
    "<p> For each category, return the top XXX results </p>"
   ]
  },
  {
   "cell_type": "code",
   "execution_count": null,
   "metadata": {},
   "outputs": [],
   "source": [
    "url_page = \"https://www.amazon.com/s?i=fashion-mens-clothing&rh=n%3A7141123011%2Cn%3A7147441011%2Cn%3A1040658%2Cn%3A2476517011&qid=1556245234&ref=sr_pg_1\"\n",
    "html_page = url.urlopen(str(url_page))\n",
    "soup = BeautifulSoup(html_page)\n",
    "links = []\n",
    "for link in soup.findAll('div', attrs={'class': 's-item-container'}):\n",
    "    links.append(link)\n",
    "#print(links[0]);"
   ]
  },
  {
   "cell_type": "code",
   "execution_count": null,
   "metadata": {},
   "outputs": [],
   "source": [
    "#image links[0].find('img').attrs['src']\n",
    "#link: links[0].find('a', attrs={'class':'a-link-normal a-text-normal'}).attrs['href']\n",
    "#name of item: links[0].find('div', attrs={'class':'a-row a-spacing-micro'}).text\n",
    "#price: \n",
    "#price_section = links[0].find('div', attrs={'class':'a-row a-spacing-none'})\n",
    "#price1 = price_section.find('span', attrs={'class':'sx-price-whole'}).text\n",
    "#price2 = price_section.find('sup', attrs={'class':'sx-price-fractional'}).text\n",
    "#price = int(price1) + float(price2)/100\n",
    "#price: \n",
    "#rate numbers: number = links[0].find('a', attrs={'class':'a-size-small a-link-normal a-text-normal' }).text\n",
    "#rate out of float(links[0].find('span',attrs={'class':'a-icon-alt'}).text.partition(' ')[0])\n",
    "#len(links)"
   ]
  },
  {
   "cell_type": "code",
<<<<<<< HEAD
   "execution_count": null,
   "metadata": {},
   "outputs": [],
   "source": []
  },
  {
   "cell_type": "code",
   "execution_count": null,
   "metadata": {},
   "outputs": [],
=======
   "execution_count": 5,
   "metadata": {},
   "outputs": [],
   "source": [
    "import scrapy\n",
    "\n",
    "class AmazonSpider(scrapy.Spider):\n",
    "    name = 'amazonSpider'\n",
    "    start_urls = ['https://www.amazon.com/s?i=fashion-mens-clothing&rh=n%3A7141123011%2Cn%3A7147441011%2Cn%3A1040658%2Cn%3A2476517011&qid=1556245234&ref=sr_pg_1']\n",
    "\n",
    "    def parse(self, response):\n",
    "        for item in response.css('div.s-item-container'):\n",
    "            yield {'name': item.css('div.a-row a-spacing-micro').get()}\n",
    "            print(item.css('div.a-row a-spacing-micro').get())\n",
    "            break;\n",
    "\n",
    "        for next_page in response.css('a.pageNext'):\n",
    "            yield response.follow(next_page, self.parse)\n",
    "            break;\n"
   ]
  },
  {
   "cell_type": "code",
   "execution_count": 6,
   "metadata": {},
   "outputs": [
    {
     "name": "stdout",
     "output_type": "stream",
     "text": [
      "Enter your API key from https://app.scrapinghub.com/account/apikey\n",
      "API key: ^C\n",
      "\n",
      "Aborted!\n",
      "/bin/sh: 1: 7bd7bc2f8fab474a90284fb6e0a60f0b: not found\n"
     ]
    },
    {
     "ename": "UnboundLocalError",
     "evalue": "local variable 'child' referenced before assignment",
     "output_type": "error",
     "traceback": [
      "\u001b[0;31m\u001b[0m",
      "\u001b[0;31mKeyboardInterrupt\u001b[0mTraceback (most recent call last)",
      "\u001b[0;32m/opt/conda/lib/python3.6/site-packages/IPython/utils/_process_posix.py\u001b[0m in \u001b[0;36msystem\u001b[0;34m(self, cmd)\u001b[0m\n\u001b[1;32m    155\u001b[0m             \u001b[0;32melse\u001b[0m\u001b[0;34m:\u001b[0m\u001b[0;34m\u001b[0m\u001b[0;34m\u001b[0m\u001b[0m\n\u001b[0;32m--> 156\u001b[0;31m                 \u001b[0mchild\u001b[0m \u001b[0;34m=\u001b[0m \u001b[0mpexpect\u001b[0m\u001b[0;34m.\u001b[0m\u001b[0mspawn\u001b[0m\u001b[0;34m(\u001b[0m\u001b[0mself\u001b[0m\u001b[0;34m.\u001b[0m\u001b[0msh\u001b[0m\u001b[0;34m,\u001b[0m \u001b[0margs\u001b[0m\u001b[0;34m=\u001b[0m\u001b[0;34m[\u001b[0m\u001b[0;34m'-c'\u001b[0m\u001b[0;34m,\u001b[0m \u001b[0mcmd\u001b[0m\u001b[0;34m]\u001b[0m\u001b[0;34m)\u001b[0m  \u001b[0;31m# Vanilla Pexpect\u001b[0m\u001b[0;34m\u001b[0m\u001b[0;34m\u001b[0m\u001b[0m\n\u001b[0m\u001b[1;32m    157\u001b[0m             \u001b[0mflush\u001b[0m \u001b[0;34m=\u001b[0m \u001b[0msys\u001b[0m\u001b[0;34m.\u001b[0m\u001b[0mstdout\u001b[0m\u001b[0;34m.\u001b[0m\u001b[0mflush\u001b[0m\u001b[0;34m\u001b[0m\u001b[0;34m\u001b[0m\u001b[0m\n",
      "\u001b[0;32m/opt/conda/lib/python3.6/site-packages/pexpect/pty_spawn.py\u001b[0m in \u001b[0;36m__init__\u001b[0;34m(self, command, args, timeout, maxread, searchwindowsize, logfile, cwd, env, ignore_sighup, echo, preexec_fn, encoding, codec_errors, dimensions, use_poll)\u001b[0m\n\u001b[1;32m    203\u001b[0m         \u001b[0;32melse\u001b[0m\u001b[0;34m:\u001b[0m\u001b[0;34m\u001b[0m\u001b[0;34m\u001b[0m\u001b[0m\n\u001b[0;32m--> 204\u001b[0;31m             \u001b[0mself\u001b[0m\u001b[0;34m.\u001b[0m\u001b[0m_spawn\u001b[0m\u001b[0;34m(\u001b[0m\u001b[0mcommand\u001b[0m\u001b[0;34m,\u001b[0m \u001b[0margs\u001b[0m\u001b[0;34m,\u001b[0m \u001b[0mpreexec_fn\u001b[0m\u001b[0;34m,\u001b[0m \u001b[0mdimensions\u001b[0m\u001b[0;34m)\u001b[0m\u001b[0;34m\u001b[0m\u001b[0;34m\u001b[0m\u001b[0m\n\u001b[0m\u001b[1;32m    205\u001b[0m         \u001b[0mself\u001b[0m\u001b[0;34m.\u001b[0m\u001b[0muse_poll\u001b[0m \u001b[0;34m=\u001b[0m \u001b[0muse_poll\u001b[0m\u001b[0;34m\u001b[0m\u001b[0;34m\u001b[0m\u001b[0m\n",
      "\u001b[0;32m/opt/conda/lib/python3.6/site-packages/pexpect/pty_spawn.py\u001b[0m in \u001b[0;36m_spawn\u001b[0;34m(self, command, args, preexec_fn, dimensions)\u001b[0m\n\u001b[1;32m    302\u001b[0m         self.ptyproc = self._spawnpty(self.args, env=self.env,\n\u001b[0;32m--> 303\u001b[0;31m                                      cwd=self.cwd, **kwargs)\n\u001b[0m\u001b[1;32m    304\u001b[0m \u001b[0;34m\u001b[0m\u001b[0m\n",
      "\u001b[0;32m/opt/conda/lib/python3.6/site-packages/pexpect/pty_spawn.py\u001b[0m in \u001b[0;36m_spawnpty\u001b[0;34m(self, args, **kwargs)\u001b[0m\n\u001b[1;32m    313\u001b[0m         \u001b[0;34m'''Spawn a pty and return an instance of PtyProcess.'''\u001b[0m\u001b[0;34m\u001b[0m\u001b[0;34m\u001b[0m\u001b[0m\n\u001b[0;32m--> 314\u001b[0;31m         \u001b[0;32mreturn\u001b[0m \u001b[0mptyprocess\u001b[0m\u001b[0;34m.\u001b[0m\u001b[0mPtyProcess\u001b[0m\u001b[0;34m.\u001b[0m\u001b[0mspawn\u001b[0m\u001b[0;34m(\u001b[0m\u001b[0margs\u001b[0m\u001b[0;34m,\u001b[0m \u001b[0;34m**\u001b[0m\u001b[0mkwargs\u001b[0m\u001b[0;34m)\u001b[0m\u001b[0;34m\u001b[0m\u001b[0;34m\u001b[0m\u001b[0m\n\u001b[0m\u001b[1;32m    315\u001b[0m \u001b[0;34m\u001b[0m\u001b[0m\n",
      "\u001b[0;32m/opt/conda/lib/python3.6/site-packages/ptyprocess/ptyprocess.py\u001b[0m in \u001b[0;36mspawn\u001b[0;34m(cls, argv, cwd, env, echo, preexec_fn, dimensions)\u001b[0m\n\u001b[1;32m    308\u001b[0m         \u001b[0mos\u001b[0m\u001b[0;34m.\u001b[0m\u001b[0mclose\u001b[0m\u001b[0;34m(\u001b[0m\u001b[0mexec_err_pipe_write\u001b[0m\u001b[0;34m)\u001b[0m\u001b[0;34m\u001b[0m\u001b[0;34m\u001b[0m\u001b[0m\n\u001b[0;32m--> 309\u001b[0;31m         \u001b[0mexec_err_data\u001b[0m \u001b[0;34m=\u001b[0m \u001b[0mos\u001b[0m\u001b[0;34m.\u001b[0m\u001b[0mread\u001b[0m\u001b[0;34m(\u001b[0m\u001b[0mexec_err_pipe_read\u001b[0m\u001b[0;34m,\u001b[0m \u001b[0;36m4096\u001b[0m\u001b[0;34m)\u001b[0m\u001b[0;34m\u001b[0m\u001b[0;34m\u001b[0m\u001b[0m\n\u001b[0m\u001b[1;32m    310\u001b[0m         \u001b[0mos\u001b[0m\u001b[0;34m.\u001b[0m\u001b[0mclose\u001b[0m\u001b[0;34m(\u001b[0m\u001b[0mexec_err_pipe_read\u001b[0m\u001b[0;34m)\u001b[0m\u001b[0;34m\u001b[0m\u001b[0;34m\u001b[0m\u001b[0m\n",
      "\u001b[0;31mKeyboardInterrupt\u001b[0m: ",
      "\nDuring handling of the above exception, another exception occurred:\n",
      "\u001b[0;31mUnboundLocalError\u001b[0mTraceback (most recent call last)",
      "\u001b[0;32m<ipython-input-6-116dc7fd0998>\u001b[0m in \u001b[0;36m<module>\u001b[0;34m\u001b[0m\n\u001b[1;32m      1\u001b[0m \u001b[0mget_ipython\u001b[0m\u001b[0;34m(\u001b[0m\u001b[0;34m)\u001b[0m\u001b[0;34m.\u001b[0m\u001b[0msystem\u001b[0m\u001b[0;34m(\u001b[0m\u001b[0;34m' shub login'\u001b[0m\u001b[0;34m)\u001b[0m\u001b[0;34m\u001b[0m\u001b[0;34m\u001b[0m\u001b[0m\n\u001b[1;32m      2\u001b[0m \u001b[0mget_ipython\u001b[0m\u001b[0;34m(\u001b[0m\u001b[0;34m)\u001b[0m\u001b[0;34m.\u001b[0m\u001b[0msystem\u001b[0m\u001b[0;34m(\u001b[0m\u001b[0;34m' 7bd7bc2f8fab474a90284fb6e0a60f0b'\u001b[0m\u001b[0;34m)\u001b[0m\u001b[0;34m\u001b[0m\u001b[0;34m\u001b[0m\u001b[0m\n\u001b[0;32m----> 3\u001b[0;31m \u001b[0mget_ipython\u001b[0m\u001b[0;34m(\u001b[0m\u001b[0;34m)\u001b[0m\u001b[0;34m.\u001b[0m\u001b[0msystem\u001b[0m\u001b[0;34m(\u001b[0m\u001b[0;34m' shub deploy'\u001b[0m\u001b[0;34m)\u001b[0m\u001b[0;34m\u001b[0m\u001b[0;34m\u001b[0m\u001b[0m\n\u001b[0m\u001b[1;32m      4\u001b[0m \u001b[0mget_ipython\u001b[0m\u001b[0;34m(\u001b[0m\u001b[0;34m)\u001b[0m\u001b[0;34m.\u001b[0m\u001b[0msystem\u001b[0m\u001b[0;34m(\u001b[0m\u001b[0;34m' shub schedule amazonSpider '\u001b[0m\u001b[0;34m)\u001b[0m\u001b[0;34m\u001b[0m\u001b[0;34m\u001b[0m\u001b[0m\n",
      "\u001b[0;32m/opt/conda/lib/python3.6/site-packages/IPython/core/interactiveshell.py\u001b[0m in \u001b[0;36msystem_piped\u001b[0;34m(self, cmd)\u001b[0m\n\u001b[1;32m   2415\u001b[0m         \u001b[0;31m# a non-None value would trigger :func:`sys.displayhook` calls.\u001b[0m\u001b[0;34m\u001b[0m\u001b[0;34m\u001b[0m\u001b[0;34m\u001b[0m\u001b[0m\n\u001b[1;32m   2416\u001b[0m         \u001b[0;31m# Instead, we store the exit_code in user_ns.\u001b[0m\u001b[0;34m\u001b[0m\u001b[0;34m\u001b[0m\u001b[0;34m\u001b[0m\u001b[0m\n\u001b[0;32m-> 2417\u001b[0;31m         \u001b[0mself\u001b[0m\u001b[0;34m.\u001b[0m\u001b[0muser_ns\u001b[0m\u001b[0;34m[\u001b[0m\u001b[0;34m'_exit_code'\u001b[0m\u001b[0;34m]\u001b[0m \u001b[0;34m=\u001b[0m \u001b[0msystem\u001b[0m\u001b[0;34m(\u001b[0m\u001b[0mself\u001b[0m\u001b[0;34m.\u001b[0m\u001b[0mvar_expand\u001b[0m\u001b[0;34m(\u001b[0m\u001b[0mcmd\u001b[0m\u001b[0;34m,\u001b[0m \u001b[0mdepth\u001b[0m\u001b[0;34m=\u001b[0m\u001b[0;36m1\u001b[0m\u001b[0;34m)\u001b[0m\u001b[0;34m)\u001b[0m\u001b[0;34m\u001b[0m\u001b[0;34m\u001b[0m\u001b[0m\n\u001b[0m\u001b[1;32m   2418\u001b[0m \u001b[0;34m\u001b[0m\u001b[0m\n\u001b[1;32m   2419\u001b[0m     \u001b[0;32mdef\u001b[0m \u001b[0msystem_raw\u001b[0m\u001b[0;34m(\u001b[0m\u001b[0mself\u001b[0m\u001b[0;34m,\u001b[0m \u001b[0mcmd\u001b[0m\u001b[0;34m)\u001b[0m\u001b[0;34m:\u001b[0m\u001b[0;34m\u001b[0m\u001b[0;34m\u001b[0m\u001b[0m\n",
      "\u001b[0;32m/opt/conda/lib/python3.6/site-packages/IPython/utils/_process_posix.py\u001b[0m in \u001b[0;36msystem\u001b[0;34m(self, cmd)\u001b[0m\n\u001b[1;32m    170\u001b[0m             \u001b[0;31m# (the character is known as ETX for 'End of Text', see\u001b[0m\u001b[0;34m\u001b[0m\u001b[0;34m\u001b[0m\u001b[0;34m\u001b[0m\u001b[0m\n\u001b[1;32m    171\u001b[0m             \u001b[0;31m# curses.ascii.ETX).\u001b[0m\u001b[0;34m\u001b[0m\u001b[0;34m\u001b[0m\u001b[0;34m\u001b[0m\u001b[0m\n\u001b[0;32m--> 172\u001b[0;31m             \u001b[0mchild\u001b[0m\u001b[0;34m.\u001b[0m\u001b[0msendline\u001b[0m\u001b[0;34m(\u001b[0m\u001b[0mchr\u001b[0m\u001b[0;34m(\u001b[0m\u001b[0;36m3\u001b[0m\u001b[0;34m)\u001b[0m\u001b[0;34m)\u001b[0m\u001b[0;34m\u001b[0m\u001b[0;34m\u001b[0m\u001b[0m\n\u001b[0m\u001b[1;32m    173\u001b[0m             \u001b[0;31m# Read and print any more output the program might produce on its\u001b[0m\u001b[0;34m\u001b[0m\u001b[0;34m\u001b[0m\u001b[0;34m\u001b[0m\u001b[0m\n\u001b[1;32m    174\u001b[0m             \u001b[0;31m# way out.\u001b[0m\u001b[0;34m\u001b[0m\u001b[0;34m\u001b[0m\u001b[0;34m\u001b[0m\u001b[0m\n",
      "\u001b[0;31mUnboundLocalError\u001b[0m: local variable 'child' referenced before assignment"
     ]
    }
   ],
>>>>>>> 2c7e589879ba0db94706ba729130038ccdf9ac76
   "source": []
  },
  {
   "cell_type": "code",
   "execution_count": null,
   "metadata": {},
   "outputs": [],
<<<<<<< HEAD
   "source": []
=======
   "source": [
    "! 7bd7bc2f8fab474a90284fb6e0a60f0b"
   ]
  },
  {
   "cell_type": "code",
   "execution_count": 7,
   "metadata": {},
   "outputs": [],
   "source": [
    "import csv\n",
    "with open('items.txt', 'w') as f:\n",
    "    f.write('brand','title','price','rate','category',str(['features']),str(['colors']))\n",
    "                      "
   ]
>>>>>>> 2c7e589879ba0db94706ba729130038ccdf9ac76
  },
  {
   "cell_type": "code",
   "execution_count": null,
   "metadata": {},
   "outputs": [],
   "source": []
  }
 ],
 "metadata": {
  "kernelspec": {
   "display_name": "Python 3",
   "language": "python",
   "name": "python3"
  },
  "language_info": {
   "codemirror_mode": {
    "name": "ipython",
    "version": 3
   },
   "file_extension": ".py",
   "mimetype": "text/x-python",
   "name": "python",
   "nbconvert_exporter": "python",
   "pygments_lexer": "ipython3",
   "version": "3.6.5"
  }
 },
 "nbformat": 4,
 "nbformat_minor": 2
}
