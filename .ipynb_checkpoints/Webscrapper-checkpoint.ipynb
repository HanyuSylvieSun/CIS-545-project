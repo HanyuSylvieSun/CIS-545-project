{
 "cells": [
  {
   "cell_type": "markdown",
   "metadata": {},
   "source": [
    "This is a webscrapper"
   ]
  },
  {
   "cell_type": "code",
   "execution_count": 54,
   "metadata": {},
   "outputs": [],
   "source": [
    "from bs4 import BeautifulSoup\n",
    "import urllib.request as url\n",
    "import pandas as pd"
   ]
  },
  {
   "cell_type": "markdown",
   "metadata": {},
   "source": [
    "<p> This method takes in a URL address and returns two lists (categories, urls). </p>\n",
    "<p> Only covers <b> Women's Clothing </b> and <b> Men's Clothing </b> </p>"
   ]
  },
  {
   "cell_type": "code",
   "execution_count": 55,
   "metadata": {},
   "outputs": [],
   "source": [
    "def get_category_link(url_string):\n",
    "    categories = []\n",
    "    urls = []\n",
    "    url_page = url_string\n",
    "    html_page = url.urlopen(str(url_page))\n",
    "    soup = BeautifulSoup(html_page)\n",
    "    for link in soup.findAll('div', attrs={'class': 'a-row a-expander-container a-expander-extend-container'}):\n",
    "        for link_in_link in link.findAll('a'):\n",
    "            if (link_in_link.get('href') and (not link_in_link.text == \"Clothing\")):\n",
    "                categories.append(link_in_link.text)\n",
    "                urls.append(link_in_link.get('href'))\n",
    "    return (categories, urls);"
   ]
  },
  {
   "cell_type": "code",
   "execution_count": 56,
   "metadata": {},
   "outputs": [],
   "source": [
    "url_women_clothing = \"https://www.amazon.com/b/ref=s9_acss_bw_cg_pwwdnav_2a1_w?node=1040660&lo=fashion&pf_rd_m=ATVPDKIKX0DER&pf_rd_s=merchandised-search-3&pf_rd_r=43ED4FZ11Q7SM3KG4XBJ&pf_rd_t=101&pf_rd_p=45896d13-b73f-468b-ac8e-f78559b412b8&pf_rd_i=7147440011\"\n",
    "url_men_clothing = \"https://www.amazon.com/b/ref=s9_acss_bw_cg_mhpnav_2a1_w?node=1040658&pf_rd_m=ATVPDKIKX0DER&pf_rd_s=merchandised-search-2&pf_rd_r=SW91W6801BRX92E8FBCR&pf_rd_t=101&pf_rd_p=6aa5aaa4-c965-4119-b8f1-521c2187c16e&pf_rd_i=7147441011\"\n",
    "\n",
    "(categories_women, urls_women) = get_category_link(url_women_clothing)\n",
    "(categories_men, urls_men) = get_category_link(url_men_clothing)"
   ]
  },
  {
   "cell_type": "code",
   "execution_count": 57,
   "metadata": {},
   "outputs": [
    {
     "name": "stdout",
     "output_type": "stream",
     "text": [
      "['Born Shoes', '21St Birthday Gift', 'Best Front Pocket Wallet', 'Birthday Gifts For Dad', 'Bulk Socks', 'Travel Jacket With Hidden Pockets', 'Untucked Button Down', '30Th Birthday Gifts', 'Matching Mom And Son Outfits', 'Shirts', 'Fashion Hoodies & Sweatshirts', 'Sweaters', 'Jackets & Coats', 'Jeans', 'Pants', 'Shorts', 'Active', 'Swim', 'Suits & Sport Coats', 'Underwear', 'Socks', 'Sleep & Lounge', 'T-Shirts & Tanks', 'Shoes', 'Jewelry', 'Watches', 'Accessories', 'Shirts', 'Fashion Hoodies & Sweatshirts', 'Sweaters', 'Jackets & Coats', 'Jeans', 'Pants', 'Shorts', 'Active', 'Swim', 'Suits & Sport Coats', 'Underwear', 'Socks', 'Sleep & Lounge', 'T-Shirts & Tanks']\n",
      "['/slp/born-shoes/noqyc27a8na66pg/', '/slp/21st-birthday-gift/fj3t82udmwdn82v/', '/slp/best-front-pocket-wallet/2986q5muw9vwpnr/', '/slp/birthday-gifts-for-dad/ffhfob34d5s67h4/', '/slp/bulk-socks/kwxc5t9emtu5p7v/', '/slp/travel-jacket-with-hidden-pockets/kf69odt3f8uv7sc/', '/slp/untucked-button-down/73rrega57odr4gq/', '/slp/30th-birthday-gifts/vqmz6mnrds3c7ne/', '/slp/matching-mom-and-son-outfits/b5orfw7be97m6bt/', 'https://www.amazon.com/Mens-Shirts/b?ie=UTF8&node=2476517011', 'https://www.amazon.com/Mens-Fashion-Hoodies-Sweatshirts/b?ie=UTF8&node=1258644011', 'https://www.amazon.com/Mens-Sweaters/b?ie=UTF8&node=1044442', 'https://www.amazon.com/Mens-Jackets/b?ie=UTF8&node=1045830', 'https://www.amazon.com/Mens-Jeans/b?ie=UTF8&node=1045564', 'https://www.amazon.com/Mens-Pants/b?ie=UTF8&node=1045558', 'https://www.amazon.com/Mens-Shorts/b?ie=UTF8&node=1045560', 'https://www.amazon.com/Mens-Activewear/b?ie=UTF8&node=3455821', 'https://www.amazon.com/Mens-Swimwear/b?ie=UTF8&node=1046670', 'https://www.amazon.com/Mens-Suits-and-Sport-Coats/b?ie=UTF8&node=1045684', 'https://www.amazon.com/Mens-Underwear/b?ie=UTF8&node=1045706', 'https://www.amazon.com/Mens-Socks/b?ie=UTF8&node=1045708', 'https://www.amazon.com/Mens-Sleepwear-and-Loungewear/b?ie=UTF8&node=3455861', 'https://www.amazon.com/b?ie=UTF8&node=15697821011', 'https://www.amazon.com/Mens-Shoes/b?ie=UTF8&node=679255011', 'https://www.amazon.com/mens-jewelry/b?ie=UTF8&node=3887881', 'https://www.amazon.com/Mens-Watches/b?ie=UTF8&node=6358539011', 'https://www.amazon.com/Mens-Accessories/b?ie=UTF8&node=2474937011', 'https://www.amazon.com/Mens-Shirts/b?ie=UTF8&node=2476517011', 'https://www.amazon.com/Mens-Fashion-Hoodies-Sweatshirts/b?ie=UTF8&node=1258644011', 'https://www.amazon.com/Mens-Sweaters/b?ie=UTF8&node=1044442', 'https://www.amazon.com/Mens-Jackets/b?ie=UTF8&node=1045830', 'https://www.amazon.com/Mens-Jeans/b?ie=UTF8&node=1045564', 'https://www.amazon.com/Mens-Pants/b?ie=UTF8&node=1045558', 'https://www.amazon.com/Mens-Shorts/b?ie=UTF8&node=1045560', 'https://www.amazon.com/Mens-Activewear/b?ie=UTF8&node=3455821', 'https://www.amazon.com/Mens-Swimwear/b?ie=UTF8&node=1046670', 'https://www.amazon.com/Mens-Suits-and-Sport-Coats/b?ie=UTF8&node=1045684', 'https://www.amazon.com/Mens-Underwear/b?ie=UTF8&node=1045706', 'https://www.amazon.com/Mens-Socks/b?ie=UTF8&node=1045708', 'https://www.amazon.com/Mens-Sleepwear-and-Loungewear/b?ie=UTF8&node=3455861', 'https://www.amazon.com/b?ie=UTF8&node=15697821011']\n"
     ]
    }
   ],
   "source": [
    "print(categories_men)\n",
    "print(urls_men)"
   ]
  },
  {
   "cell_type": "markdown",
   "metadata": {},
   "source": [
    "<p> For each category, return the top XXX results </p>"
   ]
  },
  {
   "cell_type": "code",
   "execution_count": 5,
   "metadata": {},
   "outputs": [],
   "source": [
    "url_page = \"https://www.amazon.com/s?i=fashion-mens-clothing&rh=n%3A7141123011%2Cn%3A7147441011%2Cn%3A1040658%2Cn%3A2476517011&qid=1556245234&ref=sr_pg_1\"\n",
    "html_page = url.urlopen(str(url_page))\n",
    "soup = BeautifulSoup(html_page)\n",
    "links = []\n",
    "for link in soup.findAll('div', attrs={'class': 's-item-container'}):\n",
    "    links.append(link)\n",
    "#print(links[0]);"
   ]
  },
  {
   "cell_type": "code",
   "execution_count": 52,
   "metadata": {},
   "outputs": [
    {
     "data": {
      "text/plain": [
       "'https://images-na.ssl-images-amazon.com/images/I/41Rz4knSVYL._AC_UL260_SR200,260_.jpg'"
      ]
     },
     "execution_count": 52,
     "metadata": {},
     "output_type": "execute_result"
    }
   ],
   "source": [
    "#image links[0].find('img').attrs['src']\n",
    "#link: links[0].find('a', attrs={'class':'a-link-normal a-text-normal'}).attrs['href']\n",
    "#name of item: links[0].find('div', attrs={'class':'a-row a-spacing-micro'}).text\n",
    "#price: \n",
    "#price_section = links[0].find('div', attrs={'class':'a-row a-spacing-none'})\n",
    "#price1 = price_section.find('span', attrs={'class':'sx-price-whole'}).text\n",
    "#price2 = price_section.find('sup', attrs={'class':'sx-price-fractional'}).text\n",
    "#price = int(price1) + float(price2)/100\n",
    "#price: \n",
    "#rate numbers: number = links[0].find('a', attrs={'class':'a-size-small a-link-normal a-text-normal' }).text\n",
    "#rate out of float(links[0].find('span',attrs={'class':'a-icon-alt'}).text.partition(' ')[0])\n",
    "#len(links)"
   ]
  },
  {
   "cell_type": "code",
   "execution_count": 58,
   "metadata": {},
   "outputs": [],
   "source": [
    "import scrapy\n",
    "\n",
    "class AmazonSpider(scrapy.Spider):\n",
    "    name = 'amazonSpider'\n",
    "    start_urls = ['https://www.amazon.com/s?i=fashion-mens-clothing&rh=n%3A7141123011%2Cn%3A7147441011%2Cn%3A1040658%2Cn%3A2476517011&qid=1556245234&ref=sr_pg_1']\n",
    "\n",
    "    def parse(self, response):\n",
    "        for item in response.css('div.s-item-container'):\n",
    "            yield {'name': item.css('div.a-row a-spacing-micro').get()}\n",
    "\n",
    "        for next_page in response.css('a.pageNext'):\n",
    "            yield response.follow(next_page, self.parse)\n",
    "EOF"
   ]
  },
  {
   "cell_type": "code",
   "execution_count": 59,
   "metadata": {},
   "outputs": [
    {
     "name": "stdout",
     "output_type": "stream",
     "text": [
      "Collecting shub\n",
      "\u001b[?25l  Downloading https://files.pythonhosted.org/packages/18/86/a5522f8a5294871fd62af95282365c9cf06e12514bbb5eb51fd4707c0bb3/shub-2.8.2-py2.py3-none-any.whl (58kB)\n",
      "\u001b[K    100% |████████████████████████████████| 61kB 414kB/s ta 0:00:01\n",
      "\u001b[?25hRequirement already satisfied: PyYAML in /opt/conda/lib/python3.6/site-packages (from shub) (3.13)\n",
      "Requirement already satisfied: tqdm in /opt/conda/lib/python3.6/site-packages (from shub) (4.31.1)\n",
      "Requirement already satisfied: six>=1.7.0 in /opt/conda/lib/python3.6/site-packages (from shub) (1.12.0)\n",
      "Collecting scrapinghub>=2.0.3 (from shub)\n",
      "\u001b[?25l  Downloading https://files.pythonhosted.org/packages/2a/d5/3231e3867e7f9e1f9252ac2001e50f8d9c4c88d7c479c2ec629d1e1eba8c/scrapinghub-2.1.1-py2.py3-none-any.whl (51kB)\n",
      "\u001b[K    100% |████████████████████████████████| 61kB 1.9MB/s ta 0:00:01\n",
      "\u001b[?25hRequirement already satisfied: requests in /opt/conda/lib/python3.6/site-packages (from shub) (2.21.0)\n",
      "Collecting docker-py (from shub)\n",
      "\u001b[?25l  Downloading https://files.pythonhosted.org/packages/23/c7/1fd6d4d620809fe2f323869d719e2dd0086c939b67021303a9ec40f5a05b/docker_py-1.10.6-py2.py3-none-any.whl (50kB)\n",
      "\u001b[K    100% |████████████████████████████████| 51kB 1.1MB/s ta 0:00:01    61% |███████████████████▋            | 30kB 1.7MB/s eta 0:00:01\n",
      "\u001b[?25hCollecting click (from shub)\n",
      "\u001b[?25l  Downloading https://files.pythonhosted.org/packages/fa/37/45185cb5abbc30d7257104c434fe0b07e5a195a6847506c074527aa599ec/Click-7.0-py2.py3-none-any.whl (81kB)\n",
      "\u001b[K    100% |████████████████████████████████| 81kB 1.3MB/s ta 0:00:01\n",
      "\u001b[?25hRequirement already satisfied: pip in /opt/conda/lib/python3.6/site-packages (from shub) (19.0.1)\n",
      "Collecting retrying (from shub)\n",
      "  Downloading https://files.pythonhosted.org/packages/44/ef/beae4b4ef80902f22e3af073397f079c96969c69b2c7d52a57ea9ae61c9d/retrying-1.3.3.tar.gz\n",
      "Requirement already satisfied: idna<2.9,>=2.5 in /opt/conda/lib/python3.6/site-packages (from requests->shub) (2.8)\n",
      "Requirement already satisfied: chardet<3.1.0,>=3.0.2 in /opt/conda/lib/python3.6/site-packages (from requests->shub) (3.0.4)\n",
      "Requirement already satisfied: urllib3<1.25,>=1.21.1 in /opt/conda/lib/python3.6/site-packages (from requests->shub) (1.24.1)\n",
      "Requirement already satisfied: certifi>=2017.4.17 in /opt/conda/lib/python3.6/site-packages (from requests->shub) (2018.11.29)\n",
      "Collecting docker-pycreds>=0.2.1 (from docker-py->shub)\n",
      "  Downloading https://files.pythonhosted.org/packages/f5/e8/f6bd1eee09314e7e6dee49cbe2c5e22314ccdb38db16c9fc72d2fa80d054/docker_pycreds-0.4.0-py2.py3-none-any.whl\n",
      "Collecting websocket-client>=0.32.0 (from docker-py->shub)\n",
      "\u001b[?25l  Downloading https://files.pythonhosted.org/packages/29/19/44753eab1fdb50770ac69605527e8859468f3c0fd7dc5a76dd9c4dbd7906/websocket_client-0.56.0-py2.py3-none-any.whl (200kB)\n",
      "\u001b[K    100% |████████████████████████████████| 204kB 2.1MB/s ta 0:00:01  10% |███▎                            | 20kB 1.7MB/s eta 0:00:01    76% |████████████████████████▌       | 153kB 3.8MB/s eta 0:00:01\n",
      "\u001b[?25hBuilding wheels for collected packages: retrying\n",
      "  Building wheel for retrying (setup.py) ... \u001b[?25ldone\n",
      "\u001b[?25h  Stored in directory: /home/jovyan/.cache/pip/wheels/d7/a9/33/acc7b709e2a35caa7d4cae442f6fe6fbf2c43f80823d46460c\n",
      "Successfully built retrying\n",
      "Installing collected packages: retrying, scrapinghub, docker-pycreds, websocket-client, docker-py, click, shub\n",
      "Successfully installed click-7.0 docker-py-1.10.6 docker-pycreds-0.4.0 retrying-1.3.3 scrapinghub-2.1.1 shub-2.8.2 websocket-client-0.56.0\n"
     ]
    }
   ],
   "source": [
    "! pip install shub"
   ]
  },
  {
   "cell_type": "code",
   "execution_count": null,
   "metadata": {},
   "outputs": [],
   "source": []
  }
 ],
 "metadata": {
  "kernelspec": {
   "display_name": "Python 3",
   "language": "python",
   "name": "python3"
  },
  "language_info": {
   "codemirror_mode": {
    "name": "ipython",
    "version": 3
   },
   "file_extension": ".py",
   "mimetype": "text/x-python",
   "name": "python",
   "nbconvert_exporter": "python",
   "pygments_lexer": "ipython3",
   "version": "3.6.8"
  }
 },
 "nbformat": 4,
 "nbformat_minor": 2
}
