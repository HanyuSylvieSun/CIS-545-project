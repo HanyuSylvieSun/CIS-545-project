{
 "cells": [
  {
   "cell_type": "markdown",
   "metadata": {},
   "source": [
    "This is a webscrapper"
   ]
  },
  {
   "cell_type": "code",
   "execution_count": 1,
   "metadata": {},
   "outputs": [],
   "source": [
    "from bs4 import BeautifulSoup\n",
    "import urllib.request as url\n",
    "import pandas as pd"
   ]
  },
  {
   "cell_type": "markdown",
   "metadata": {},
   "source": [
    "<p> This method takes in a URL address and returns two lists (categories, urls). </p>\n",
    "<p> Only covers <b> Women's Clothing </b> and <b> Men's Clothing </b> </p>"
   ]
  },
  {
   "cell_type": "code",
   "execution_count": 2,
   "metadata": {},
   "outputs": [],
   "source": [
    "def get_category_link(url_string):\n",
    "    categories = []\n",
    "    urls = []\n",
    "    url_page = url_string\n",
    "    html_page = url.urlopen(str(url_page))\n",
    "    soup = BeautifulSoup(html_page)\n",
    "    for link in soup.findAll('div', attrs={'class': 'a-row a-expander-container a-expander-extend-container'}):\n",
    "        for link_in_link in link.findAll('a'):\n",
    "            if (link_in_link.get('href') and (not link_in_link.text == \"Clothing\")):\n",
    "                categories.append(link_in_link.text)\n",
    "                urls.append(link_in_link.get('href'))\n",
    "    return (categories, urls);"
   ]
  },
  {
   "cell_type": "code",
   "execution_count": 3,
   "metadata": {},
   "outputs": [],
   "source": [
    "url_women_clothing = \"https://www.amazon.com/b/ref=s9_acss_bw_cg_pwwdnav_2a1_w?node=1040660&lo=fashion&pf_rd_m=ATVPDKIKX0DER&pf_rd_s=merchandised-search-3&pf_rd_r=43ED4FZ11Q7SM3KG4XBJ&pf_rd_t=101&pf_rd_p=45896d13-b73f-468b-ac8e-f78559b412b8&pf_rd_i=7147440011\"\n",
    "url_men_clothing = \"https://www.amazon.com/b/ref=s9_acss_bw_cg_mhpnav_2a1_w?node=1040658&pf_rd_m=ATVPDKIKX0DER&pf_rd_s=merchandised-search-2&pf_rd_r=SW91W6801BRX92E8FBCR&pf_rd_t=101&pf_rd_p=6aa5aaa4-c965-4119-b8f1-521c2187c16e&pf_rd_i=7147441011\"\n",
    "\n",
    "(categories_women, urls_women) = get_category_link(url_women_clothing)\n",
    "(categories_men, urls_men) = get_category_link(url_men_clothing)"
   ]
  },
  {
   "cell_type": "code",
   "execution_count": 4,
   "metadata": {},
   "outputs": [],
   "source": [
    "#print(categories_men)\n",
    "#print(urls_men)"
   ]
  },
  {
   "cell_type": "markdown",
   "metadata": {},
   "source": [
    "<p> For each category, return the top XXX results </p>"
   ]
  },
  {
   "cell_type": "code",
   "execution_count": 5,
   "metadata": {},
   "outputs": [],
   "source": [
    "url_page = \"https://www.amazon.com/s?i=fashion-mens-clothing&rh=n%3A7141123011%2Cn%3A7147441011%2Cn%3A1040658%2Cn%3A2476517011&qid=1556245234&ref=sr_pg_1\"\n",
    "html_page = url.urlopen(str(url_page))\n",
    "soup = BeautifulSoup(html_page)\n",
    "links = []\n",
    "for link in soup.findAll('div', attrs={'class': 's-item-container'}):\n",
    "    links.append(link)\n",
    "#print(links[0]);"
   ]
  },
  {
   "cell_type": "code",
   "execution_count": 52,
   "metadata": {},
   "outputs": [
    {
     "data": {
      "text/plain": [
       "'https://images-na.ssl-images-amazon.com/images/I/41Rz4knSVYL._AC_UL260_SR200,260_.jpg'"
      ]
     },
     "execution_count": 52,
     "metadata": {},
     "output_type": "execute_result"
    }
   ],
   "source": [
    "#image links[0].find('img').attrs['src']\n",
    "#link: links[0].find('a', attrs={'class':'a-link-normal a-text-normal'}).attrs['href']\n",
    "#name of item: links[0].find('div', attrs={'class':'a-row a-spacing-micro'}).text\n",
    "#price: \n",
    "#price_section = links[0].find('div', attrs={'class':'a-row a-spacing-none'})\n",
    "#price1 = price_section.find('span', attrs={'class':'sx-price-whole'}).text\n",
    "#price2 = price_section.find('sup', attrs={'class':'sx-price-fractional'}).text\n",
    "#price = int(price1) + float(price2)/100\n",
    "#price: \n",
    "#rate numbers: number = links[0].find('a', attrs={'class':'a-size-small a-link-normal a-text-normal' }).text\n",
    "#rate out of float(links[0].find('span',attrs={'class':'a-icon-alt'}).text.partition(' ')[0])\n",
    "#len(links)"
   ]
  },
  {
   "cell_type": "code",
   "execution_count": null,
   "metadata": {},
   "outputs": [],
   "source": []
  }
 ],
 "metadata": {
  "kernelspec": {
   "display_name": "Python 3",
   "language": "python",
   "name": "python3"
  },
  "language_info": {
   "codemirror_mode": {
    "name": "ipython",
    "version": 3
   },
   "file_extension": ".py",
   "mimetype": "text/x-python",
   "name": "python",
   "nbconvert_exporter": "python",
   "pygments_lexer": "ipython3",
   "version": "3.6.8"
  }
 },
 "nbformat": 4,
 "nbformat_minor": 2
}
