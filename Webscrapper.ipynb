{
 "cells": [
  {
   "cell_type": "markdown",
   "metadata": {},
   "source": [
    "This is a webscrapper"
   ]
  },
  {
   "cell_type": "code",
   "execution_count": 1,
   "metadata": {},
   "outputs": [],
   "source": [
    "from bs4 import BeautifulSoup\n",
    "import urllib.request as url"
   ]
  },
  {
   "cell_type": "markdown",
   "metadata": {},
   "source": [
    "<p> This method takes in a URL address and returns two lists (categories, urls). </p>\n",
    "<p> Only covers <b> Women's Clothing </b> and <b> Men's Clothing </b> </p>"
   ]
  },
  {
   "cell_type": "code",
   "execution_count": 31,
   "metadata": {},
   "outputs": [],
   "source": [
    "def get_category_link(url_string):\n",
    "    categories = []\n",
    "    urls = []\n",
    "    url_page = \"https://www.amazon.com/b/ref=s9_acss_bw_cg_pwwdnav_2a1_w?node=1040660&lo=fashion&pf_rd_m=ATVPDKIKX0DER&pf_rd_s=merchandised-search-3&pf_rd_r=43ED4FZ11Q7SM3KG4XBJ&pf_rd_t=101&pf_rd_p=45896d13-b73f-468b-ac8e-f78559b412b8&pf_rd_i=7147440011\"\n",
    "    html_page = url.urlopen(url_page)\n",
    "    soup = BeautifulSoup(html_page)\n",
    "    links = \"\"\n",
    "    for link in soup.findAll('div', attrs={'class': 'a-row a-expander-container a-expander-extend-container'}):\n",
    "        for link_in_link in link.findAll('a'):\n",
    "            if (link_in_link.get('href')):\n",
    "                categories.append(link_in_link.text)\n",
    "                urls.append(link_in_link.get('href'))\n",
    "    return (categories, urls);"
   ]
  },
  {
   "cell_type": "code",
   "execution_count": 32,
   "metadata": {},
   "outputs": [],
   "source": [
    "url_women_clothing = \"https://www.amazon.com/b/ref=s9_acss_bw_cg_pwwdnav_2a1_w?node=1040660&lo=fashion&pf_rd_m=ATVPDKIKX0DER&pf_rd_s=merchandised-search-3&pf_rd_r=43ED4FZ11Q7SM3KG4XBJ&pf_rd_t=101&pf_rd_p=45896d13-b73f-468b-ac8e-f78559b412b8&pf_rd_i=7147440011\"\n",
    "url_men_clothing = \"https://www.amazon.com/b/ref=s9_acss_bw_cg_mhpnav_2a1_w?node=1040658&pf_rd_m=ATVPDKIKX0DER&pf_rd_s=merchandised-search-2&pf_rd_r=SW91W6801BRX92E8FBCR&pf_rd_t=101&pf_rd_p=6aa5aaa4-c965-4119-b8f1-521c2187c16e&pf_rd_i=7147441011\"\n",
    "\n",
    "(categories_women, urls_women) = get_category_link(url_women_clothing)\n",
    "(categories_men, urls_men) = get_category_link(url_men_clothing)"
   ]
  },
  {
   "cell_type": "code",
   "execution_count": 34,
   "metadata": {},
   "outputs": [
    {
     "name": "stdout",
     "output_type": "stream",
     "text": [
      "['Clothing', 'Dresses', 'Tops, Tees & Blouses', 'Sweaters', 'Fashion Hoodies & Sweatshirts', 'Jeans', 'Pants', 'Skirts', 'Shorts', 'Leggings', 'Active', 'Swimsuits & Cover Ups', 'Lingerie, Sleep & Lounge', 'Jumpsuits, Rompers & Overalls', 'Coats, Jackets & Vests', 'Suiting & Blazers', 'Socks & Hosiery', 'Shoes', 'Jewelry', 'Watches', 'Handbags & Wallets', 'Accessories', 'Dresses', 'Tops, Tees & Blouses', 'Sweaters', 'Fashion Hoodies & Sweatshirts', 'Jeans', 'Pants', 'Skirts', 'Shorts', 'Leggings', 'Active', 'Swimsuits & Cover Ups', 'Lingerie, Sleep & Lounge', 'Jumpsuits, Rompers & Overalls', 'Coats, Jackets & Vests', 'Suiting & Blazers', 'Socks & Hosiery']\n",
      "['https://www.amazon.com/Womens-Clothing/b?ie=UTF8&node=1040660', 'https://www.amazon.com/Dresses/b?ie=UTF8&node=1045024', 'https://www.amazon.com/Womens-Tops-Tees/b?ie=UTF8&node=2368343011', 'https://www.amazon.com/Womens-Sweaters/b?ie=UTF8&node=1044456', 'https://www.amazon.com/Womens-Hoodies-and-Sweatshirts/b?ie=UTF8&node=1258603011', 'https://www.amazon.com/Womens-Jeans/b?ie=UTF8&node=1048188', 'https://www.amazon.com/Womens-Pants/b?ie=UTF8&node=1048184', 'https://www.amazon.com/Skirts/b?ie=UTF8&node=1045022', 'https://www.amazon.com/Womens-Shorts/b?ie=UTF8&node=1048186', 'https://www.amazon.com/Leggings/b?ie=UTF8&node=1258967011', 'https://www.amazon.com/Womens-Activewear/b?ie=UTF8&node=3456051', 'https://www.amazon.com/Womens-Swimsuits-and-Cover-Ups/b?ie=UTF8&node=1046622', 'https://www.amazon.com/Lingerie-Sleepwear-and-Loungewear/b?ie=UTF8&node=9522931011', 'https://www.amazon.com/Womens-Jumpsuits-Rompers-Overalls/b?ie=UTF8&node=9522930011', 'https://www.amazon.com/Womens-Coats/b?ie=UTF8&node=1044646', 'https://www.amazon.com/Womens-Suiting-Blazers/b?ie=UTF8&node=9522932011', 'https://www.amazon.com/Womens-Socks-and-Hosiery/b?ie=UTF8&node=1044886', 'https://www.amazon.com/womens-shoes/b?ie=UTF8&node=679337011', 'https://www.amazon.com/Jewelry/b?ie=UTF8&node=7192394011', 'https://www.amazon.com/Womens-Watches/b?ie=UTF8&node=6358543011', 'https://www.amazon.com/Handbags/b?ie=UTF8&node=15743631', 'https://www.amazon.com/Womens-Accessories/b?ie=UTF8&node=2474936011', 'https://www.amazon.com/Dresses/b?ie=UTF8&node=1045024', 'https://www.amazon.com/Womens-Tops-Tees/b?ie=UTF8&node=2368343011', 'https://www.amazon.com/Womens-Sweaters/b?ie=UTF8&node=1044456', 'https://www.amazon.com/Womens-Hoodies-and-Sweatshirts/b?ie=UTF8&node=1258603011', 'https://www.amazon.com/Womens-Jeans/b?ie=UTF8&node=1048188', 'https://www.amazon.com/Womens-Pants/b?ie=UTF8&node=1048184', 'https://www.amazon.com/Skirts/b?ie=UTF8&node=1045022', 'https://www.amazon.com/Womens-Shorts/b?ie=UTF8&node=1048186', 'https://www.amazon.com/Leggings/b?ie=UTF8&node=1258967011', 'https://www.amazon.com/Womens-Activewear/b?ie=UTF8&node=3456051', 'https://www.amazon.com/Womens-Swimsuits-and-Cover-Ups/b?ie=UTF8&node=1046622', 'https://www.amazon.com/Lingerie-Sleepwear-and-Loungewear/b?ie=UTF8&node=9522931011', 'https://www.amazon.com/Womens-Jumpsuits-Rompers-Overalls/b?ie=UTF8&node=9522930011', 'https://www.amazon.com/Womens-Coats/b?ie=UTF8&node=1044646', 'https://www.amazon.com/Womens-Suiting-Blazers/b?ie=UTF8&node=9522932011', 'https://www.amazon.com/Womens-Socks-and-Hosiery/b?ie=UTF8&node=1044886']\n"
     ]
    }
   ],
   "source": [
    "#print(categories_men)\n",
    "#print(urls_men)"
   ]
  },
  {
   "cell_type": "code",
   "execution_count": null,
   "metadata": {},
   "outputs": [],
   "source": []
  }
 ],
 "metadata": {
  "kernelspec": {
   "display_name": "Python 3",
   "language": "python",
   "name": "python3"
  },
  "language_info": {
   "codemirror_mode": {
    "name": "ipython",
    "version": 3
   },
   "file_extension": ".py",
   "mimetype": "text/x-python",
   "name": "python",
   "nbconvert_exporter": "python",
   "pygments_lexer": "ipython3",
   "version": "3.6.8"
  }
 },
 "nbformat": 4,
 "nbformat_minor": 2
}
