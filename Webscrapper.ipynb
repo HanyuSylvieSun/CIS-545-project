{
 "cells": [
  {
   "cell_type": "markdown",
   "metadata": {},
   "source": [
    "This is a webscrapper"
   ]
  },
  {
   "cell_type": "code",
   "execution_count": 54,
   "metadata": {},
   "outputs": [],
   "source": [
    "from bs4 import BeautifulSoup\n",
    "import urllib.request as url\n",
    "import pandas as pd"
   ]
  },
  {
   "cell_type": "markdown",
   "metadata": {},
   "source": [
    "<p> This method takes in a URL address and returns two lists (categories, urls). </p>\n",
    "<p> Only covers <b> Women's Clothing </b> and <b> Men's Clothing </b> </p>"
   ]
  },
  {
   "cell_type": "code",
   "execution_count": 55,
   "metadata": {},
   "outputs": [],
   "source": [
    "def get_category_link(url_string):\n",
    "    categories = []\n",
    "    urls = []\n",
    "    url_page = url_string\n",
    "    html_page = url.urlopen(str(url_page))\n",
    "    soup = BeautifulSoup(html_page)\n",
    "    for link in soup.findAll('div', attrs={'class': 'a-row a-expander-container a-expander-extend-container'}):\n",
    "        for link_in_link in link.findAll('a'):\n",
    "            if (link_in_link.get('href') and (not link_in_link.text == \"Clothing\")):\n",
    "                categories.append(link_in_link.text)\n",
    "                urls.append(link_in_link.get('href'))\n",
    "    return (categories, urls);"
   ]
  },
  {
   "cell_type": "code",
   "execution_count": 56,
   "metadata": {},
   "outputs": [],
   "source": [
    "url_women_clothing = \"https://www.amazon.com/b/ref=s9_acss_bw_cg_pwwdnav_2a1_w?node=1040660&lo=fashion&pf_rd_m=ATVPDKIKX0DER&pf_rd_s=merchandised-search-3&pf_rd_r=43ED4FZ11Q7SM3KG4XBJ&pf_rd_t=101&pf_rd_p=45896d13-b73f-468b-ac8e-f78559b412b8&pf_rd_i=7147440011\"\n",
    "url_men_clothing = \"https://www.amazon.com/b/ref=s9_acss_bw_cg_mhpnav_2a1_w?node=1040658&pf_rd_m=ATVPDKIKX0DER&pf_rd_s=merchandised-search-2&pf_rd_r=SW91W6801BRX92E8FBCR&pf_rd_t=101&pf_rd_p=6aa5aaa4-c965-4119-b8f1-521c2187c16e&pf_rd_i=7147441011\"\n",
    "\n",
    "(categories_women, urls_women) = get_category_link(url_women_clothing)\n",
    "(categories_men, urls_men) = get_category_link(url_men_clothing)"
   ]
  },
  {
   "cell_type": "code",
   "execution_count": 57,
   "metadata": {},
   "outputs": [
    {
     "name": "stdout",
     "output_type": "stream",
     "text": [
      "['Born Shoes', '21St Birthday Gift', 'Best Front Pocket Wallet', 'Birthday Gifts For Dad', 'Bulk Socks', 'Travel Jacket With Hidden Pockets', 'Untucked Button Down', '30Th Birthday Gifts', 'Matching Mom And Son Outfits', 'Shirts', 'Fashion Hoodies & Sweatshirts', 'Sweaters', 'Jackets & Coats', 'Jeans', 'Pants', 'Shorts', 'Active', 'Swim', 'Suits & Sport Coats', 'Underwear', 'Socks', 'Sleep & Lounge', 'T-Shirts & Tanks', 'Shoes', 'Jewelry', 'Watches', 'Accessories', 'Shirts', 'Fashion Hoodies & Sweatshirts', 'Sweaters', 'Jackets & Coats', 'Jeans', 'Pants', 'Shorts', 'Active', 'Swim', 'Suits & Sport Coats', 'Underwear', 'Socks', 'Sleep & Lounge', 'T-Shirts & Tanks']\n",
      "['/slp/born-shoes/noqyc27a8na66pg/', '/slp/21st-birthday-gift/fj3t82udmwdn82v/', '/slp/best-front-pocket-wallet/2986q5muw9vwpnr/', '/slp/birthday-gifts-for-dad/ffhfob34d5s67h4/', '/slp/bulk-socks/kwxc5t9emtu5p7v/', '/slp/travel-jacket-with-hidden-pockets/kf69odt3f8uv7sc/', '/slp/untucked-button-down/73rrega57odr4gq/', '/slp/30th-birthday-gifts/vqmz6mnrds3c7ne/', '/slp/matching-mom-and-son-outfits/b5orfw7be97m6bt/', 'https://www.amazon.com/Mens-Shirts/b?ie=UTF8&node=2476517011', 'https://www.amazon.com/Mens-Fashion-Hoodies-Sweatshirts/b?ie=UTF8&node=1258644011', 'https://www.amazon.com/Mens-Sweaters/b?ie=UTF8&node=1044442', 'https://www.amazon.com/Mens-Jackets/b?ie=UTF8&node=1045830', 'https://www.amazon.com/Mens-Jeans/b?ie=UTF8&node=1045564', 'https://www.amazon.com/Mens-Pants/b?ie=UTF8&node=1045558', 'https://www.amazon.com/Mens-Shorts/b?ie=UTF8&node=1045560', 'https://www.amazon.com/Mens-Activewear/b?ie=UTF8&node=3455821', 'https://www.amazon.com/Mens-Swimwear/b?ie=UTF8&node=1046670', 'https://www.amazon.com/Mens-Suits-and-Sport-Coats/b?ie=UTF8&node=1045684', 'https://www.amazon.com/Mens-Underwear/b?ie=UTF8&node=1045706', 'https://www.amazon.com/Mens-Socks/b?ie=UTF8&node=1045708', 'https://www.amazon.com/Mens-Sleepwear-and-Loungewear/b?ie=UTF8&node=3455861', 'https://www.amazon.com/b?ie=UTF8&node=15697821011', 'https://www.amazon.com/Mens-Shoes/b?ie=UTF8&node=679255011', 'https://www.amazon.com/mens-jewelry/b?ie=UTF8&node=3887881', 'https://www.amazon.com/Mens-Watches/b?ie=UTF8&node=6358539011', 'https://www.amazon.com/Mens-Accessories/b?ie=UTF8&node=2474937011', 'https://www.amazon.com/Mens-Shirts/b?ie=UTF8&node=2476517011', 'https://www.amazon.com/Mens-Fashion-Hoodies-Sweatshirts/b?ie=UTF8&node=1258644011', 'https://www.amazon.com/Mens-Sweaters/b?ie=UTF8&node=1044442', 'https://www.amazon.com/Mens-Jackets/b?ie=UTF8&node=1045830', 'https://www.amazon.com/Mens-Jeans/b?ie=UTF8&node=1045564', 'https://www.amazon.com/Mens-Pants/b?ie=UTF8&node=1045558', 'https://www.amazon.com/Mens-Shorts/b?ie=UTF8&node=1045560', 'https://www.amazon.com/Mens-Activewear/b?ie=UTF8&node=3455821', 'https://www.amazon.com/Mens-Swimwear/b?ie=UTF8&node=1046670', 'https://www.amazon.com/Mens-Suits-and-Sport-Coats/b?ie=UTF8&node=1045684', 'https://www.amazon.com/Mens-Underwear/b?ie=UTF8&node=1045706', 'https://www.amazon.com/Mens-Socks/b?ie=UTF8&node=1045708', 'https://www.amazon.com/Mens-Sleepwear-and-Loungewear/b?ie=UTF8&node=3455861', 'https://www.amazon.com/b?ie=UTF8&node=15697821011']\n"
     ]
    }
   ],
   "source": [
    "print(categories_men)\n",
    "print(urls_men)"
   ]
  },
  {
   "cell_type": "markdown",
   "metadata": {},
   "source": [
    "<p> For each category, return the top XXX results </p>"
   ]
  },
  {
   "cell_type": "code",
   "execution_count": 5,
   "metadata": {},
   "outputs": [],
   "source": [
    "url_page = \"https://www.amazon.com/s?i=fashion-mens-clothing&rh=n%3A7141123011%2Cn%3A7147441011%2Cn%3A1040658%2Cn%3A2476517011&qid=1556245234&ref=sr_pg_1\"\n",
    "html_page = url.urlopen(str(url_page))\n",
    "soup = BeautifulSoup(html_page)\n",
    "links = []\n",
    "for link in soup.findAll('div', attrs={'class': 's-item-container'}):\n",
    "    links.append(link)\n",
    "#print(links[0]);"
   ]
  },
  {
   "cell_type": "code",
   "execution_count": 52,
   "metadata": {},
   "outputs": [
    {
     "data": {
      "text/plain": [
       "'https://images-na.ssl-images-amazon.com/images/I/41Rz4knSVYL._AC_UL260_SR200,260_.jpg'"
      ]
     },
     "execution_count": 52,
     "metadata": {},
     "output_type": "execute_result"
    }
   ],
   "source": [
    "#image links[0].find('img').attrs['src']\n",
    "#link: links[0].find('a', attrs={'class':'a-link-normal a-text-normal'}).attrs['href']\n",
    "#name of item: links[0].find('div', attrs={'class':'a-row a-spacing-micro'}).text\n",
    "#price: \n",
    "#price_section = links[0].find('div', attrs={'class':'a-row a-spacing-none'})\n",
    "#price1 = price_section.find('span', attrs={'class':'sx-price-whole'}).text\n",
    "#price2 = price_section.find('sup', attrs={'class':'sx-price-fractional'}).text\n",
    "#price = int(price1) + float(price2)/100\n",
    "#price: \n",
    "#rate numbers: number = links[0].find('a', attrs={'class':'a-size-small a-link-normal a-text-normal' }).text\n",
    "#rate out of float(links[0].find('span',attrs={'class':'a-icon-alt'}).text.partition(' ')[0])\n",
    "#len(links)"
   ]
  },
  {
   "cell_type": "code",
   "execution_count": 5,
   "metadata": {},
   "outputs": [],
   "source": [
    "import scrapy\n",
    "\n",
    "class AmazonSpider(scrapy.Spider):\n",
    "    name = 'amazonSpider'\n",
    "    start_urls = ['https://www.amazon.com/s?i=fashion-mens-clothing&rh=n%3A7141123011%2Cn%3A7147441011%2Cn%3A1040658%2Cn%3A2476517011&qid=1556245234&ref=sr_pg_1']\n",
    "\n",
    "    def parse(self, response):\n",
    "        for item in response.css('div.s-item-container'):\n",
    "            yield {'name': item.css('div.a-row a-spacing-micro').get()}\n",
    "            print(item.css('div.a-row a-spacing-micro').get())\n",
    "            break;\n",
    "\n",
    "        for next_page in response.css('a.pageNext'):\n",
    "            yield response.follow(next_page, self.parse)\n",
    "            break;\n"
   ]
  },
  {
   "cell_type": "code",
   "execution_count": 6,
   "metadata": {},
   "outputs": [
    {
     "name": "stdout",
     "output_type": "stream",
     "text": [
      "Enter your API key from https://app.scrapinghub.com/account/apikey\n",
      "API key: ^C\n",
      "\n",
      "Aborted!\n",
      "/bin/sh: 1: 7bd7bc2f8fab474a90284fb6e0a60f0b: not found\n"
     ]
    },
    {
     "ename": "UnboundLocalError",
     "evalue": "local variable 'child' referenced before assignment",
     "output_type": "error",
     "traceback": [
      "\u001b[0;31m\u001b[0m",
      "\u001b[0;31mKeyboardInterrupt\u001b[0mTraceback (most recent call last)",
      "\u001b[0;32m/opt/conda/lib/python3.6/site-packages/IPython/utils/_process_posix.py\u001b[0m in \u001b[0;36msystem\u001b[0;34m(self, cmd)\u001b[0m\n\u001b[1;32m    155\u001b[0m             \u001b[0;32melse\u001b[0m\u001b[0;34m:\u001b[0m\u001b[0;34m\u001b[0m\u001b[0;34m\u001b[0m\u001b[0m\n\u001b[0;32m--> 156\u001b[0;31m                 \u001b[0mchild\u001b[0m \u001b[0;34m=\u001b[0m \u001b[0mpexpect\u001b[0m\u001b[0;34m.\u001b[0m\u001b[0mspawn\u001b[0m\u001b[0;34m(\u001b[0m\u001b[0mself\u001b[0m\u001b[0;34m.\u001b[0m\u001b[0msh\u001b[0m\u001b[0;34m,\u001b[0m \u001b[0margs\u001b[0m\u001b[0;34m=\u001b[0m\u001b[0;34m[\u001b[0m\u001b[0;34m'-c'\u001b[0m\u001b[0;34m,\u001b[0m \u001b[0mcmd\u001b[0m\u001b[0;34m]\u001b[0m\u001b[0;34m)\u001b[0m  \u001b[0;31m# Vanilla Pexpect\u001b[0m\u001b[0;34m\u001b[0m\u001b[0;34m\u001b[0m\u001b[0m\n\u001b[0m\u001b[1;32m    157\u001b[0m             \u001b[0mflush\u001b[0m \u001b[0;34m=\u001b[0m \u001b[0msys\u001b[0m\u001b[0;34m.\u001b[0m\u001b[0mstdout\u001b[0m\u001b[0;34m.\u001b[0m\u001b[0mflush\u001b[0m\u001b[0;34m\u001b[0m\u001b[0;34m\u001b[0m\u001b[0m\n",
      "\u001b[0;32m/opt/conda/lib/python3.6/site-packages/pexpect/pty_spawn.py\u001b[0m in \u001b[0;36m__init__\u001b[0;34m(self, command, args, timeout, maxread, searchwindowsize, logfile, cwd, env, ignore_sighup, echo, preexec_fn, encoding, codec_errors, dimensions, use_poll)\u001b[0m\n\u001b[1;32m    203\u001b[0m         \u001b[0;32melse\u001b[0m\u001b[0;34m:\u001b[0m\u001b[0;34m\u001b[0m\u001b[0;34m\u001b[0m\u001b[0m\n\u001b[0;32m--> 204\u001b[0;31m             \u001b[0mself\u001b[0m\u001b[0;34m.\u001b[0m\u001b[0m_spawn\u001b[0m\u001b[0;34m(\u001b[0m\u001b[0mcommand\u001b[0m\u001b[0;34m,\u001b[0m \u001b[0margs\u001b[0m\u001b[0;34m,\u001b[0m \u001b[0mpreexec_fn\u001b[0m\u001b[0;34m,\u001b[0m \u001b[0mdimensions\u001b[0m\u001b[0;34m)\u001b[0m\u001b[0;34m\u001b[0m\u001b[0;34m\u001b[0m\u001b[0m\n\u001b[0m\u001b[1;32m    205\u001b[0m         \u001b[0mself\u001b[0m\u001b[0;34m.\u001b[0m\u001b[0muse_poll\u001b[0m \u001b[0;34m=\u001b[0m \u001b[0muse_poll\u001b[0m\u001b[0;34m\u001b[0m\u001b[0;34m\u001b[0m\u001b[0m\n",
      "\u001b[0;32m/opt/conda/lib/python3.6/site-packages/pexpect/pty_spawn.py\u001b[0m in \u001b[0;36m_spawn\u001b[0;34m(self, command, args, preexec_fn, dimensions)\u001b[0m\n\u001b[1;32m    302\u001b[0m         self.ptyproc = self._spawnpty(self.args, env=self.env,\n\u001b[0;32m--> 303\u001b[0;31m                                      cwd=self.cwd, **kwargs)\n\u001b[0m\u001b[1;32m    304\u001b[0m \u001b[0;34m\u001b[0m\u001b[0m\n",
      "\u001b[0;32m/opt/conda/lib/python3.6/site-packages/pexpect/pty_spawn.py\u001b[0m in \u001b[0;36m_spawnpty\u001b[0;34m(self, args, **kwargs)\u001b[0m\n\u001b[1;32m    313\u001b[0m         \u001b[0;34m'''Spawn a pty and return an instance of PtyProcess.'''\u001b[0m\u001b[0;34m\u001b[0m\u001b[0;34m\u001b[0m\u001b[0m\n\u001b[0;32m--> 314\u001b[0;31m         \u001b[0;32mreturn\u001b[0m \u001b[0mptyprocess\u001b[0m\u001b[0;34m.\u001b[0m\u001b[0mPtyProcess\u001b[0m\u001b[0;34m.\u001b[0m\u001b[0mspawn\u001b[0m\u001b[0;34m(\u001b[0m\u001b[0margs\u001b[0m\u001b[0;34m,\u001b[0m \u001b[0;34m**\u001b[0m\u001b[0mkwargs\u001b[0m\u001b[0;34m)\u001b[0m\u001b[0;34m\u001b[0m\u001b[0;34m\u001b[0m\u001b[0m\n\u001b[0m\u001b[1;32m    315\u001b[0m \u001b[0;34m\u001b[0m\u001b[0m\n",
      "\u001b[0;32m/opt/conda/lib/python3.6/site-packages/ptyprocess/ptyprocess.py\u001b[0m in \u001b[0;36mspawn\u001b[0;34m(cls, argv, cwd, env, echo, preexec_fn, dimensions)\u001b[0m\n\u001b[1;32m    308\u001b[0m         \u001b[0mos\u001b[0m\u001b[0;34m.\u001b[0m\u001b[0mclose\u001b[0m\u001b[0;34m(\u001b[0m\u001b[0mexec_err_pipe_write\u001b[0m\u001b[0;34m)\u001b[0m\u001b[0;34m\u001b[0m\u001b[0;34m\u001b[0m\u001b[0m\n\u001b[0;32m--> 309\u001b[0;31m         \u001b[0mexec_err_data\u001b[0m \u001b[0;34m=\u001b[0m \u001b[0mos\u001b[0m\u001b[0;34m.\u001b[0m\u001b[0mread\u001b[0m\u001b[0;34m(\u001b[0m\u001b[0mexec_err_pipe_read\u001b[0m\u001b[0;34m,\u001b[0m \u001b[0;36m4096\u001b[0m\u001b[0;34m)\u001b[0m\u001b[0;34m\u001b[0m\u001b[0;34m\u001b[0m\u001b[0m\n\u001b[0m\u001b[1;32m    310\u001b[0m         \u001b[0mos\u001b[0m\u001b[0;34m.\u001b[0m\u001b[0mclose\u001b[0m\u001b[0;34m(\u001b[0m\u001b[0mexec_err_pipe_read\u001b[0m\u001b[0;34m)\u001b[0m\u001b[0;34m\u001b[0m\u001b[0;34m\u001b[0m\u001b[0m\n",
      "\u001b[0;31mKeyboardInterrupt\u001b[0m: ",
      "\nDuring handling of the above exception, another exception occurred:\n",
      "\u001b[0;31mUnboundLocalError\u001b[0mTraceback (most recent call last)",
      "\u001b[0;32m<ipython-input-6-116dc7fd0998>\u001b[0m in \u001b[0;36m<module>\u001b[0;34m\u001b[0m\n\u001b[1;32m      1\u001b[0m \u001b[0mget_ipython\u001b[0m\u001b[0;34m(\u001b[0m\u001b[0;34m)\u001b[0m\u001b[0;34m.\u001b[0m\u001b[0msystem\u001b[0m\u001b[0;34m(\u001b[0m\u001b[0;34m' shub login'\u001b[0m\u001b[0;34m)\u001b[0m\u001b[0;34m\u001b[0m\u001b[0;34m\u001b[0m\u001b[0m\n\u001b[1;32m      2\u001b[0m \u001b[0mget_ipython\u001b[0m\u001b[0;34m(\u001b[0m\u001b[0;34m)\u001b[0m\u001b[0;34m.\u001b[0m\u001b[0msystem\u001b[0m\u001b[0;34m(\u001b[0m\u001b[0;34m' 7bd7bc2f8fab474a90284fb6e0a60f0b'\u001b[0m\u001b[0;34m)\u001b[0m\u001b[0;34m\u001b[0m\u001b[0;34m\u001b[0m\u001b[0m\n\u001b[0;32m----> 3\u001b[0;31m \u001b[0mget_ipython\u001b[0m\u001b[0;34m(\u001b[0m\u001b[0;34m)\u001b[0m\u001b[0;34m.\u001b[0m\u001b[0msystem\u001b[0m\u001b[0;34m(\u001b[0m\u001b[0;34m' shub deploy'\u001b[0m\u001b[0;34m)\u001b[0m\u001b[0;34m\u001b[0m\u001b[0;34m\u001b[0m\u001b[0m\n\u001b[0m\u001b[1;32m      4\u001b[0m \u001b[0mget_ipython\u001b[0m\u001b[0;34m(\u001b[0m\u001b[0;34m)\u001b[0m\u001b[0;34m.\u001b[0m\u001b[0msystem\u001b[0m\u001b[0;34m(\u001b[0m\u001b[0;34m' shub schedule amazonSpider '\u001b[0m\u001b[0;34m)\u001b[0m\u001b[0;34m\u001b[0m\u001b[0;34m\u001b[0m\u001b[0m\n",
      "\u001b[0;32m/opt/conda/lib/python3.6/site-packages/IPython/core/interactiveshell.py\u001b[0m in \u001b[0;36msystem_piped\u001b[0;34m(self, cmd)\u001b[0m\n\u001b[1;32m   2415\u001b[0m         \u001b[0;31m# a non-None value would trigger :func:`sys.displayhook` calls.\u001b[0m\u001b[0;34m\u001b[0m\u001b[0;34m\u001b[0m\u001b[0;34m\u001b[0m\u001b[0m\n\u001b[1;32m   2416\u001b[0m         \u001b[0;31m# Instead, we store the exit_code in user_ns.\u001b[0m\u001b[0;34m\u001b[0m\u001b[0;34m\u001b[0m\u001b[0;34m\u001b[0m\u001b[0m\n\u001b[0;32m-> 2417\u001b[0;31m         \u001b[0mself\u001b[0m\u001b[0;34m.\u001b[0m\u001b[0muser_ns\u001b[0m\u001b[0;34m[\u001b[0m\u001b[0;34m'_exit_code'\u001b[0m\u001b[0;34m]\u001b[0m \u001b[0;34m=\u001b[0m \u001b[0msystem\u001b[0m\u001b[0;34m(\u001b[0m\u001b[0mself\u001b[0m\u001b[0;34m.\u001b[0m\u001b[0mvar_expand\u001b[0m\u001b[0;34m(\u001b[0m\u001b[0mcmd\u001b[0m\u001b[0;34m,\u001b[0m \u001b[0mdepth\u001b[0m\u001b[0;34m=\u001b[0m\u001b[0;36m1\u001b[0m\u001b[0;34m)\u001b[0m\u001b[0;34m)\u001b[0m\u001b[0;34m\u001b[0m\u001b[0;34m\u001b[0m\u001b[0m\n\u001b[0m\u001b[1;32m   2418\u001b[0m \u001b[0;34m\u001b[0m\u001b[0m\n\u001b[1;32m   2419\u001b[0m     \u001b[0;32mdef\u001b[0m \u001b[0msystem_raw\u001b[0m\u001b[0;34m(\u001b[0m\u001b[0mself\u001b[0m\u001b[0;34m,\u001b[0m \u001b[0mcmd\u001b[0m\u001b[0;34m)\u001b[0m\u001b[0;34m:\u001b[0m\u001b[0;34m\u001b[0m\u001b[0;34m\u001b[0m\u001b[0m\n",
      "\u001b[0;32m/opt/conda/lib/python3.6/site-packages/IPython/utils/_process_posix.py\u001b[0m in \u001b[0;36msystem\u001b[0;34m(self, cmd)\u001b[0m\n\u001b[1;32m    170\u001b[0m             \u001b[0;31m# (the character is known as ETX for 'End of Text', see\u001b[0m\u001b[0;34m\u001b[0m\u001b[0;34m\u001b[0m\u001b[0;34m\u001b[0m\u001b[0m\n\u001b[1;32m    171\u001b[0m             \u001b[0;31m# curses.ascii.ETX).\u001b[0m\u001b[0;34m\u001b[0m\u001b[0;34m\u001b[0m\u001b[0;34m\u001b[0m\u001b[0m\n\u001b[0;32m--> 172\u001b[0;31m             \u001b[0mchild\u001b[0m\u001b[0;34m.\u001b[0m\u001b[0msendline\u001b[0m\u001b[0;34m(\u001b[0m\u001b[0mchr\u001b[0m\u001b[0;34m(\u001b[0m\u001b[0;36m3\u001b[0m\u001b[0;34m)\u001b[0m\u001b[0;34m)\u001b[0m\u001b[0;34m\u001b[0m\u001b[0;34m\u001b[0m\u001b[0m\n\u001b[0m\u001b[1;32m    173\u001b[0m             \u001b[0;31m# Read and print any more output the program might produce on its\u001b[0m\u001b[0;34m\u001b[0m\u001b[0;34m\u001b[0m\u001b[0;34m\u001b[0m\u001b[0m\n\u001b[1;32m    174\u001b[0m             \u001b[0;31m# way out.\u001b[0m\u001b[0;34m\u001b[0m\u001b[0;34m\u001b[0m\u001b[0;34m\u001b[0m\u001b[0m\n",
      "\u001b[0;31mUnboundLocalError\u001b[0m: local variable 'child' referenced before assignment"
     ]
    }
   ],
   "source": []
  },
  {
   "cell_type": "code",
   "execution_count": null,
   "metadata": {},
   "outputs": [],
   "source": [
    "! 7bd7bc2f8fab474a90284fb6e0a60f0b"
   ]
  },
  {
   "cell_type": "code",
   "execution_count": null,
   "metadata": {},
   "outputs": [],
   "source": []
  }
 ],
 "metadata": {
  "kernelspec": {
   "display_name": "Python 3",
   "language": "python",
   "name": "python3"
  },
  "language_info": {
   "codemirror_mode": {
    "name": "ipython",
    "version": 3
   },
   "file_extension": ".py",
   "mimetype": "text/x-python",
   "name": "python",
   "nbconvert_exporter": "python",
   "pygments_lexer": "ipython3",
   "version": "3.6.8"
  }
 },
 "nbformat": 4,
 "nbformat_minor": 2
}
