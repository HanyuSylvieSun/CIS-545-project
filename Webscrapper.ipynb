{
 "cells": [
  {
   "cell_type": "markdown",
   "metadata": {},
   "source": [
    "This is a webscrapper"
   ]
  },
  {
   "cell_type": "code",
   "execution_count": 1,
   "metadata": {},
   "outputs": [],
   "source": [
    "from bs4 import BeautifulSoup\n",
    "import urllib.request as url"
   ]
  },
  {
   "cell_type": "code",
   "execution_count": 21,
   "metadata": {},
   "outputs": [
    {
     "name": "stdout",
     "output_type": "stream",
     "text": [
      "<div aria-live=\"polite\" class=\"a-row a-expander-container a-expander-extend-container\"><h3 class=\"fst-cs-title\">Women's Clothing from Amazon.com</h3>\n",
      "<p class=\"fst-cs-title-text\"><p> At Amazon Fashion, we believe that Smart is Beautiful—that's why we carry an easy-to-shop selection of wear-everywhere women's clothing for this season and next.</p><p> We carefully curate collections of both classic and on-trend styles so you can quickly find everything from your favorite tried-and-true denim brands to pieces from up-and-coming designers. Each season, we bring you a vast array of modern pieces you'll want now and for seasons to come. To complement these styles, our women's clothing selection also offers everyday basics—from basic tees, tops, jeans, and jackets to work-appropriate blazers, skirts, and more—so you can build a head-to-toe wardrobe for every occasion.</p><p> Amazon Fashion also provides styling how-to's and guides that highlight the season's best women's clothing for specific trips, events, and occasions—for example, what to pack for summer vacation, the best date-night looks, what to gift for Mother's Day, and beyond. From a glamorous holiday-party cocktail dress to a soft cashmere sweater you can wear for years to come, we're always keeping an eye out for outfit-making styles from a wide range of brands. Our versatile women's clothing selection includes favorite brands as well as emerging designers—a list that includes 7 For All Mankind, Calvin Klein, Joie, Levi's, Parker, Pendleton, Rebecca Minkoff, Tracy Reese, and many more.</p><p> We're committed to providing you with a convenient shopping experience, which is why we've organized our women's clothing into easily searchable categories. In addition, we put on-trend and weather-perfect styles on center stage, so you can quickly find swimwear and shorts in summer, the prettiest dresses in spring, and the latest denim and warmest coats in fall and winter. To add to the ease of your shopping experience, many items are eligible for free returns—meaning you can efficiently try the newest styles to find the ones you love.</p></p></div>\n",
      "<div aria-live=\"polite\" class=\"a-row a-expander-container a-expander-extend-container\"><li><span class=\"a-list-item\"><li><span class=\"a-list-item\"><h4 class=\"a-size-small a-color-base a-text-bold\"><a class=\"a-link-normal a-color-base a-text-normal a-text-bold\" href=\"https://www.amazon.com/Womens-Clothing/b?ie=UTF8&amp;node=1040660\">Clothing</a></h4><ul class=\"a-unordered-list a-nostyle a-vertical s-ref-indent-one\"><div aria-live=\"polite\" class=\"a-row a-expander-container a-expander-extend-container\"><li><span class=\"a-list-item\"><li><span class=\"a-list-item\"><a class=\"a-link-normal s-ref-text-link\" href=\"https://www.amazon.com/Dresses/b?ie=UTF8&amp;node=1045024\"><span class=\"a-size-small a-color-base\">Dresses</span></a></span></li></span></li><li><span class=\"a-list-item\"><li><span class=\"a-list-item\"><a class=\"a-link-normal s-ref-text-link\" href=\"https://www.amazon.com/Womens-Tops-Tees/b?ie=UTF8&amp;node=2368343011\"><span class=\"a-size-small a-color-base\">Tops, Tees &amp; Blouses</span></a></span></li></span></li><li><span class=\"a-list-item\"><li><span class=\"a-list-item\"><a class=\"a-link-normal s-ref-text-link\" href=\"https://www.amazon.com/Womens-Sweaters/b?ie=UTF8&amp;node=1044456\"><span class=\"a-size-small a-color-base\">Sweaters</span></a></span></li></span></li><li><span class=\"a-list-item\"><li><span class=\"a-list-item\"><a class=\"a-link-normal s-ref-text-link\" href=\"https://www.amazon.com/Womens-Hoodies-and-Sweatshirts/b?ie=UTF8&amp;node=1258603011\"><span class=\"a-size-small a-color-base\">Fashion Hoodies &amp; Sweatshirts</span></a></span></li></span></li><li><span class=\"a-list-item\"><li><span class=\"a-list-item\"><a class=\"a-link-normal s-ref-text-link\" href=\"https://www.amazon.com/Womens-Jeans/b?ie=UTF8&amp;node=1048188\"><span class=\"a-size-small a-color-base\">Jeans</span></a></span></li></span></li><li><span class=\"a-list-item\"><li><span class=\"a-list-item\"><a class=\"a-link-normal s-ref-text-link\" href=\"https://www.amazon.com/Womens-Pants/b?ie=UTF8&amp;node=1048184\"><span class=\"a-size-small a-color-base\">Pants</span></a></span></li></span></li><li><span class=\"a-list-item\"><li><span class=\"a-list-item\"><a class=\"a-link-normal s-ref-text-link\" href=\"https://www.amazon.com/Skirts/b?ie=UTF8&amp;node=1045022\"><span class=\"a-size-small a-color-base\">Skirts</span></a></span></li></span></li><li><span class=\"a-list-item\"><li><span class=\"a-list-item\"><a class=\"a-link-normal s-ref-text-link\" href=\"https://www.amazon.com/Womens-Shorts/b?ie=UTF8&amp;node=1048186\"><span class=\"a-size-small a-color-base\">Shorts</span></a></span></li></span></li><li><span class=\"a-list-item\"><li><span class=\"a-list-item\"><a class=\"a-link-normal s-ref-text-link\" href=\"https://www.amazon.com/Leggings/b?ie=UTF8&amp;node=1258967011\"><span class=\"a-size-small a-color-base\">Leggings</span></a></span></li></span></li><li><span class=\"a-list-item\"><li><span class=\"a-list-item\"><a class=\"a-link-normal s-ref-text-link\" href=\"https://www.amazon.com/Womens-Activewear/b?ie=UTF8&amp;node=3456051\"><span class=\"a-size-small a-color-base\">Active</span></a></span></li></span></li><li><span class=\"a-list-item\"><li><span class=\"a-list-item\"><a class=\"a-link-normal s-ref-text-link\" href=\"https://www.amazon.com/Womens-Swimsuits-and-Cover-Ups/b?ie=UTF8&amp;node=1046622\"><span class=\"a-size-small a-color-base\">Swimsuits &amp; Cover Ups</span></a></span></li></span></li><li><span class=\"a-list-item\"><li><span class=\"a-list-item\"><a class=\"a-link-normal s-ref-text-link\" href=\"https://www.amazon.com/Lingerie-Sleepwear-and-Loungewear/b?ie=UTF8&amp;node=9522931011\"><span class=\"a-size-small a-color-base\">Lingerie, Sleep &amp; Lounge</span></a></span></li></span></li><li><span class=\"a-list-item\"><li><span class=\"a-list-item\"><a class=\"a-link-normal s-ref-text-link\" href=\"https://www.amazon.com/Womens-Jumpsuits-Rompers-Overalls/b?ie=UTF8&amp;node=9522930011\"><span class=\"a-size-small a-color-base\">Jumpsuits, Rompers &amp; Overalls</span></a></span></li></span></li><li><span class=\"a-list-item\"><li><span class=\"a-list-item\"><a class=\"a-link-normal s-ref-text-link\" href=\"https://www.amazon.com/Womens-Coats/b?ie=UTF8&amp;node=1044646\"><span class=\"a-size-small a-color-base\">Coats, Jackets &amp; Vests</span></a></span></li></span></li><li><span class=\"a-list-item\"><li><span class=\"a-list-item\"><a class=\"a-link-normal s-ref-text-link\" href=\"https://www.amazon.com/Womens-Suiting-Blazers/b?ie=UTF8&amp;node=9522932011\"><span class=\"a-size-small a-color-base\">Suiting &amp; Blazers</span></a></span></li></span></li><li><span class=\"a-list-item\"><li><span class=\"a-list-item\"><a class=\"a-link-normal s-ref-text-link\" href=\"https://www.amazon.com/Womens-Socks-and-Hosiery/b?ie=UTF8&amp;node=1044886\"><span class=\"a-size-small a-color-base\">Socks &amp; Hosiery</span></a></span></li></span></li></div></ul></span></li></span></li><li><span class=\"a-list-item\"><li><span class=\"a-list-item\"><a class=\"a-link-normal s-ref-text-link\" href=\"https://www.amazon.com/womens-shoes/b?ie=UTF8&amp;node=679337011\"><span class=\"a-size-small a-color-base\">Shoes</span></a></span></li></span></li><li><span class=\"a-list-item\"><li><span class=\"a-list-item\"><a class=\"a-link-normal s-ref-text-link\" href=\"https://www.amazon.com/Jewelry/b?ie=UTF8&amp;node=7192394011\"><span class=\"a-size-small a-color-base\">Jewelry</span></a></span></li></span></li><li><span class=\"a-list-item\"><li><span class=\"a-list-item\"><a class=\"a-link-normal s-ref-text-link\" href=\"https://www.amazon.com/Womens-Watches/b?ie=UTF8&amp;node=6358543011\"><span class=\"a-size-small a-color-base\">Watches</span></a></span></li></span></li><li><span class=\"a-list-item\"><li><span class=\"a-list-item\"><a class=\"a-link-normal s-ref-text-link\" href=\"https://www.amazon.com/Handbags/b?ie=UTF8&amp;node=15743631\"><span class=\"a-size-small a-color-base\">Handbags &amp; Wallets</span></a></span></li></span></li><li><span class=\"a-list-item\"><li><span class=\"a-list-item\"><a class=\"a-link-normal s-ref-text-link\" href=\"https://www.amazon.com/Womens-Accessories/b?ie=UTF8&amp;node=2474936011\"><span class=\"a-size-small a-color-base\">Accessories</span></a></span></li></span></li></div>\n",
      "<div aria-live=\"polite\" class=\"a-row a-expander-container a-expander-extend-container\"><li><span class=\"a-list-item\"><li><span class=\"a-list-item\"><a class=\"a-link-normal s-ref-text-link\" href=\"https://www.amazon.com/Dresses/b?ie=UTF8&amp;node=1045024\"><span class=\"a-size-small a-color-base\">Dresses</span></a></span></li></span></li><li><span class=\"a-list-item\"><li><span class=\"a-list-item\"><a class=\"a-link-normal s-ref-text-link\" href=\"https://www.amazon.com/Womens-Tops-Tees/b?ie=UTF8&amp;node=2368343011\"><span class=\"a-size-small a-color-base\">Tops, Tees &amp; Blouses</span></a></span></li></span></li><li><span class=\"a-list-item\"><li><span class=\"a-list-item\"><a class=\"a-link-normal s-ref-text-link\" href=\"https://www.amazon.com/Womens-Sweaters/b?ie=UTF8&amp;node=1044456\"><span class=\"a-size-small a-color-base\">Sweaters</span></a></span></li></span></li><li><span class=\"a-list-item\"><li><span class=\"a-list-item\"><a class=\"a-link-normal s-ref-text-link\" href=\"https://www.amazon.com/Womens-Hoodies-and-Sweatshirts/b?ie=UTF8&amp;node=1258603011\"><span class=\"a-size-small a-color-base\">Fashion Hoodies &amp; Sweatshirts</span></a></span></li></span></li><li><span class=\"a-list-item\"><li><span class=\"a-list-item\"><a class=\"a-link-normal s-ref-text-link\" href=\"https://www.amazon.com/Womens-Jeans/b?ie=UTF8&amp;node=1048188\"><span class=\"a-size-small a-color-base\">Jeans</span></a></span></li></span></li><li><span class=\"a-list-item\"><li><span class=\"a-list-item\"><a class=\"a-link-normal s-ref-text-link\" href=\"https://www.amazon.com/Womens-Pants/b?ie=UTF8&amp;node=1048184\"><span class=\"a-size-small a-color-base\">Pants</span></a></span></li></span></li><li><span class=\"a-list-item\"><li><span class=\"a-list-item\"><a class=\"a-link-normal s-ref-text-link\" href=\"https://www.amazon.com/Skirts/b?ie=UTF8&amp;node=1045022\"><span class=\"a-size-small a-color-base\">Skirts</span></a></span></li></span></li><li><span class=\"a-list-item\"><li><span class=\"a-list-item\"><a class=\"a-link-normal s-ref-text-link\" href=\"https://www.amazon.com/Womens-Shorts/b?ie=UTF8&amp;node=1048186\"><span class=\"a-size-small a-color-base\">Shorts</span></a></span></li></span></li><li><span class=\"a-list-item\"><li><span class=\"a-list-item\"><a class=\"a-link-normal s-ref-text-link\" href=\"https://www.amazon.com/Leggings/b?ie=UTF8&amp;node=1258967011\"><span class=\"a-size-small a-color-base\">Leggings</span></a></span></li></span></li><li><span class=\"a-list-item\"><li><span class=\"a-list-item\"><a class=\"a-link-normal s-ref-text-link\" href=\"https://www.amazon.com/Womens-Activewear/b?ie=UTF8&amp;node=3456051\"><span class=\"a-size-small a-color-base\">Active</span></a></span></li></span></li><li><span class=\"a-list-item\"><li><span class=\"a-list-item\"><a class=\"a-link-normal s-ref-text-link\" href=\"https://www.amazon.com/Womens-Swimsuits-and-Cover-Ups/b?ie=UTF8&amp;node=1046622\"><span class=\"a-size-small a-color-base\">Swimsuits &amp; Cover Ups</span></a></span></li></span></li><li><span class=\"a-list-item\"><li><span class=\"a-list-item\"><a class=\"a-link-normal s-ref-text-link\" href=\"https://www.amazon.com/Lingerie-Sleepwear-and-Loungewear/b?ie=UTF8&amp;node=9522931011\"><span class=\"a-size-small a-color-base\">Lingerie, Sleep &amp; Lounge</span></a></span></li></span></li><li><span class=\"a-list-item\"><li><span class=\"a-list-item\"><a class=\"a-link-normal s-ref-text-link\" href=\"https://www.amazon.com/Womens-Jumpsuits-Rompers-Overalls/b?ie=UTF8&amp;node=9522930011\"><span class=\"a-size-small a-color-base\">Jumpsuits, Rompers &amp; Overalls</span></a></span></li></span></li><li><span class=\"a-list-item\"><li><span class=\"a-list-item\"><a class=\"a-link-normal s-ref-text-link\" href=\"https://www.amazon.com/Womens-Coats/b?ie=UTF8&amp;node=1044646\"><span class=\"a-size-small a-color-base\">Coats, Jackets &amp; Vests</span></a></span></li></span></li><li><span class=\"a-list-item\"><li><span class=\"a-list-item\"><a class=\"a-link-normal s-ref-text-link\" href=\"https://www.amazon.com/Womens-Suiting-Blazers/b?ie=UTF8&amp;node=9522932011\"><span class=\"a-size-small a-color-base\">Suiting &amp; Blazers</span></a></span></li></span></li><li><span class=\"a-list-item\"><li><span class=\"a-list-item\"><a class=\"a-link-normal s-ref-text-link\" href=\"https://www.amazon.com/Womens-Socks-and-Hosiery/b?ie=UTF8&amp;node=1044886\"><span class=\"a-size-small a-color-base\">Socks &amp; Hosiery</span></a></span></li></span></li></div>\n"
     ]
    }
   ],
   "source": [
    "url_page = \"https://www.amazon.com/b/ref=s9_acss_bw_cg_pwwdnav_2a1_w?node=1040660&lo=fashion&pf_rd_m=ATVPDKIKX0DER&pf_rd_s=merchandised-search-3&pf_rd_r=43ED4FZ11Q7SM3KG4XBJ&pf_rd_t=101&pf_rd_p=45896d13-b73f-468b-ac8e-f78559b412b8&pf_rd_i=7147440011\"\n",
    "html_page = url.urlopen(url_page)\n",
    "soup = BeautifulSoup(html_page)\n",
    "for link in soup.findAll('div', attrs={'class': 'a-row a-expander-container a-expander-extend-container'}):\n",
    "    print(link)"
   ]
  },
  {
   "cell_type": "code",
   "execution_count": null,
   "metadata": {},
   "outputs": [],
   "source": []
  },
  {
   "cell_type": "code",
   "execution_count": null,
   "metadata": {},
   "outputs": [],
   "source": []
  }
 ],
 "metadata": {
  "kernelspec": {
   "display_name": "Python 3",
   "language": "python",
   "name": "python3"
  },
  "language_info": {
   "codemirror_mode": {
    "name": "ipython",
    "version": 3
   },
   "file_extension": ".py",
   "mimetype": "text/x-python",
   "name": "python",
   "nbconvert_exporter": "python",
   "pygments_lexer": "ipython3",
   "version": "3.6.8"
  }
 },
 "nbformat": 4,
 "nbformat_minor": 2
}
